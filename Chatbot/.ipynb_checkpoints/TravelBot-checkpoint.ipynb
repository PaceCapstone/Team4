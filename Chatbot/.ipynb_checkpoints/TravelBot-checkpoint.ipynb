{
 "cells": [
  {
   "cell_type": "code",
   "execution_count": 0,
   "metadata": {
    "colab": {},
    "colab_type": "code",
    "id": "90OpbQ-GsBpz"
   },
   "outputs": [],
   "source": [
    "import tensorflow as tf\n",
    "import numpy as np\n",
    " "
   ]
  },
  {
   "cell_type": "code",
   "execution_count": 2,
   "metadata": {
    "colab": {
     "base_uri": "https://localhost:8080/",
     "height": 228
    },
    "colab_type": "code",
    "executionInfo": {
     "elapsed": 57179,
     "status": "ok",
     "timestamp": 1543780148590,
     "user": {
      "displayName": "Patel Bhavik",
      "photoUrl": "https://lh6.googleusercontent.com/-Ww5zjbqyBpc/AAAAAAAAAAI/AAAAAAAAPJE/Fyo0ffaWDgI/s64/photo.jpg",
      "userId": "11036128188233392950"
     },
     "user_tz": 300
    },
    "id": "U0BZVgMDsHOC",
    "outputId": "2aa07b7b-5b95-4b13-d423-7647614cfcb0"
   },
   "outputs": [
    {
     "name": "stdout",
     "output_type": "stream",
     "text": [
      "Go to this URL in a browser: https://accounts.google.com/o/oauth2/auth?client_id=947318989803-6bn6qk8qdgf4n4g3pfee6491hc0brc4i.apps.googleusercontent.com&redirect_uri=urn%3Aietf%3Awg%3Aoauth%3A2.0%3Aoob&scope=email%20https%3A%2F%2Fwww.googleapis.com%2Fauth%2Fdocs.test%20https%3A%2F%2Fwww.googleapis.com%2Fauth%2Fdrive%20https%3A%2F%2Fwww.googleapis.com%2Fauth%2Fdrive.photos.readonly%20https%3A%2F%2Fwww.googleapis.com%2Fauth%2Fpeopleapi.readonly&response_type=code\n",
      "\n",
      "Enter your authorization code:\n",
      "··········\n",
      "Mounted at /content/drive\n"
     ]
    }
   ],
   "source": [
    "!pip install -U -q PyDrive\n",
    "from pydrive.auth import GoogleAuth\n",
    "from pydrive.drive import GoogleDrive\n",
    "from google.colab import auth\n",
    "from oauth2client.client import GoogleCredentials\n",
    "\n",
    "# Authenticate and create the PyDrive client.\n",
    "# This only needs to be done once per notebook.\n",
    "auth.authenticate_user()\n",
    "gauth = GoogleAuth()\n",
    "gauth.credentials = GoogleCredentials.get_application_default()\n",
    "drive = GoogleDrive(gauth)\n",
    "\n",
    "# Download a file based on its file ID.\n",
    "#\n",
    "# A file ID looks like: laggVyWshwcyP6kEI-y_W3P8D26sz\n",
    "data_file = drive.CreateFile({'id':'1Tsi5ZwxBP1r8Fm9kUuEn44MTSrkPHPFA'})\n",
    "data_file.GetContentFile('data.py')\n",
    "\n",
    "seq2seq = drive.CreateFile({'id':'1Y-Q0tnY5RJeRL4cTTbEwqqSDyMvrz4tK'})\n",
    "seq2seq.GetContentFile('seq2seq_wrapper.py')\n",
    "\n",
    "utils = drive.CreateFile({'id':'160mk9b7eMDdZ0MmRxnhpIkdS4QwQ87Vn'})\n",
    "utils.GetContentFile('data_utils.py')\n",
    "\n",
    "import data\n",
    "import seq2seq_wrapper\n",
    "import data_utils\n",
    "\n",
    "# Load the Drive helper and mount\n",
    "from google.colab import drive\n",
    "# This will prompt for authorization.\n",
    "drive.mount('/content/drive')\n",
    "\n"
   ]
  },
  {
   "cell_type": "code",
   "execution_count": 3,
   "metadata": {
    "colab": {
     "base_uri": "https://localhost:8080/",
     "height": 34
    },
    "colab_type": "code",
    "executionInfo": {
     "elapsed": 57172,
     "status": "ok",
     "timestamp": 1543780148593,
     "user": {
      "displayName": "Patel Bhavik",
      "photoUrl": "https://lh6.googleusercontent.com/-Ww5zjbqyBpc/AAAAAAAAAAI/AAAAAAAAPJE/Fyo0ffaWDgI/s64/photo.jpg",
      "userId": "11036128188233392950"
     },
     "user_tz": 300
    },
    "id": "WfR_wnzdu0dL",
    "outputId": "3565321f-227b-4c3a-9617-949725151c8e"
   },
   "outputs": [
    {
     "data": {
      "text/plain": [
       "<module 'data' from '/content/data.py'>"
      ]
     },
     "execution_count": 3,
     "metadata": {
      "tags": []
     },
     "output_type": "execute_result"
    }
   ],
   "source": [
    "import importlib\n",
    "importlib.reload(data)"
   ]
  },
  {
   "cell_type": "code",
   "execution_count": 0,
   "metadata": {
    "colab": {},
    "colab_type": "code",
    "id": "b_ye-Ay0vdUZ"
   },
   "outputs": [],
   "source": [
    "path = \"/content/drive/My Drive/Colab Notebooks/Chatbot/TravelBot/\"\n",
    "metadata, idx_q, idx_a = data.load_data(path)\n",
    "(trainX, trainY), (testX, testY), (validX, validY) = data_utils.split_dataset(idx_q, idx_a)"
   ]
  },
  {
   "cell_type": "code",
   "execution_count": 0,
   "metadata": {
    "colab": {},
    "colab_type": "code",
    "id": "6y3k5OcswRXX"
   },
   "outputs": [],
   "source": [
    "xseq_len = trainX.shape[-1]\n",
    "yseq_len = trainY.shape[-1]\n",
    "batch_size = 16\n",
    "xvocab_size = len(metadata['idx2w'])  \n",
    "yvocab_size = xvocab_size\n",
    "emb_dim = 1024"
   ]
  },
  {
   "cell_type": "code",
   "execution_count": 6,
   "metadata": {
    "colab": {
     "base_uri": "https://localhost:8080/",
     "height": 125
    },
    "colab_type": "code",
    "executionInfo": {
     "elapsed": 90736,
     "status": "ok",
     "timestamp": 1543780182166,
     "user": {
      "displayName": "Patel Bhavik",
      "photoUrl": "https://lh6.googleusercontent.com/-Ww5zjbqyBpc/AAAAAAAAAAI/AAAAAAAAPJE/Fyo0ffaWDgI/s64/photo.jpg",
      "userId": "11036128188233392950"
     },
     "user_tz": 300
    },
    "id": "W9Xr_rDz5P_J",
    "outputId": "1f415837-a77f-4364-fbe2-b25db3d5d584"
   },
   "outputs": [
    {
     "name": "stdout",
     "output_type": "stream",
     "text": [
      "<log> Building Graph WARNING:tensorflow:From /content/seq2seq_wrapper.py:46: BasicLSTMCell.__init__ (from tensorflow.python.ops.rnn_cell_impl) is deprecated and will be removed in a future version.\n",
      "Instructions for updating:\n",
      "This class is deprecated, please use tf.nn.rnn_cell.LSTMCell, which supports all the feature this cell currently has. Please replace the existing code with tf.nn.rnn_cell.LSTMCell(name='basic_lstm_cell').\n",
      "WARNING:tensorflow:At least two cells provided to MultiRNNCell are the same object and will share weights.\n",
      "</log>"
     ]
    }
   ],
   "source": [
    "model = seq2seq_wrapper.Seq2Seq(xseq_len=xseq_len,\n",
    "                               yseq_len=yseq_len,\n",
    "                               xvocab_size=xvocab_size,\n",
    "                               yvocab_size=yvocab_size,\n",
    "                               ckpt_path=path+'ckpt/cornell_corpus/',\n",
    "                               emb_dim=emb_dim,\n",
    "                               num_layers=3\n",
    "                               )"
   ]
  },
  {
   "cell_type": "code",
   "execution_count": 0,
   "metadata": {
    "colab": {},
    "colab_type": "code",
    "id": "PV6q94UpmG-o"
   },
   "outputs": [],
   "source": [
    "val_batch_gen = data_utils.rand_batch_gen(validX, validY, 32)\n",
    "test_batch_gen = data_utils.rand_batch_gen(testX, testY, 256)\n",
    "train_batch_gen = data_utils.rand_batch_gen(trainX, trainY, batch_size)"
   ]
  },
  {
   "cell_type": "code",
   "execution_count": 0,
   "metadata": {
    "colab": {},
    "colab_type": "code",
    "id": "eM6xjzwo5cFm"
   },
   "outputs": [],
   "source": [
    "#sess = model.train(train_batch_gen, val_batch_gen)"
   ]
  },
  {
   "cell_type": "code",
   "execution_count": 9,
   "metadata": {
    "colab": {
     "base_uri": "https://localhost:8080/",
     "height": 34
    },
    "colab_type": "code",
    "executionInfo": {
     "elapsed": 96972,
     "status": "ok",
     "timestamp": 1543780188412,
     "user": {
      "displayName": "Patel Bhavik",
      "photoUrl": "https://lh6.googleusercontent.com/-Ww5zjbqyBpc/AAAAAAAAAAI/AAAAAAAAPJE/Fyo0ffaWDgI/s64/photo.jpg",
      "userId": "11036128188233392950"
     },
     "user_tz": 300
    },
    "id": "7leqyqWDasoQ",
    "outputId": "ddfa2bc4-11c6-4c95-bf4d-af768555c6c5"
   },
   "outputs": [
    {
     "name": "stdout",
     "output_type": "stream",
     "text": [
      "INFO:tensorflow:Restoring parameters from /content/drive/My Drive/Colab Notebooks/Chatbot/TravelBot/ckpt/cornell_corpus/seq2seq_model.ckpt-15000\n"
     ]
    }
   ],
   "source": [
    "sess = model.restore_last_session()"
   ]
  },
  {
   "cell_type": "code",
   "execution_count": 10,
   "metadata": {
    "colab": {
     "base_uri": "https://localhost:8080/",
     "height": 34
    },
    "colab_type": "code",
    "executionInfo": {
     "elapsed": 105858,
     "status": "ok",
     "timestamp": 1543780197303,
     "user": {
      "displayName": "Patel Bhavik",
      "photoUrl": "https://lh6.googleusercontent.com/-Ww5zjbqyBpc/AAAAAAAAAAI/AAAAAAAAPJE/Fyo0ffaWDgI/s64/photo.jpg",
      "userId": "11036128188233392950"
     },
     "user_tz": 300
    },
    "id": "ReGlwj-JatJD",
    "outputId": "116e25ef-5990-4854-e0b7-afb6f2a6ee17"
   },
   "outputs": [
    {
     "name": "stdout",
     "output_type": "stream",
     "text": [
      "(256, 25)\n"
     ]
    }
   ],
   "source": [
    "input_ = test_batch_gen.__next__()[0]\n",
    "output = model.predict(sess, input_)\n",
    "print(output.shape)"
   ]
  },
  {
   "cell_type": "code",
   "execution_count": 11,
   "metadata": {
    "colab": {
     "base_uri": "https://localhost:8080/",
     "height": 3573
    },
    "colab_type": "code",
    "executionInfo": {
     "elapsed": 105853,
     "status": "ok",
     "timestamp": 1543780197304,
     "user": {
      "displayName": "Patel Bhavik",
      "photoUrl": "https://lh6.googleusercontent.com/-Ww5zjbqyBpc/AAAAAAAAAAI/AAAAAAAAPJE/Fyo0ffaWDgI/s64/photo.jpg",
      "userId": "11036128188233392950"
     },
     "user_tz": 300
    },
    "id": "BdDhEVd_a5Av",
    "outputId": "078927c1-15f6-4947-aba3-9720bbd8690b"
   },
   "outputs": [
    {
     "name": "stdout",
     "output_type": "stream",
     "text": [
      "q : [i would really like a 7 day stay if possible]; a : [i am sorry i have nothing available from beijing to san juan would you like to try another destination]\n",
      "q : [i dont care]; a : [when would you like to leave]\n",
      "q : [thanks for your help in any case but i got to go away now]; a : [great i will take care of your trip to dominican republic would you like to go to booking]\n",
      "q : [i need to get away from a little longer than that one so lets book vancouver please and thanks]; a : [great your trip is booked have a great day]\n",
      "q : [no i do not like other people]; a : [ok do you have a budget]\n",
      "q : [i was actually just googling attractions in phoenix do you offer flights there]; a : [i have no hotels available]\n",
      "q : [i can go to burlington i suppose]; a : [i can book you for 10 days at a 3 star hotel for the hotel for august the 25th of september]\n",
      "q : [hi i want to go to tofino from burlington please recommend me packages from sunday 21 to august 24 for 2200 for 7 adults]; a : [i am afraid we do not have any flights available from beijing to san francisco]\n",
      "q : [is there any possibility of finding a package where i can be back on the 2nd]; a : [i am afraid we do not have any flights from beijing to paris]\n",
      "q : [okay well it is still a good deal please go ahead and book ita week away from this hell hole will do wonders for me]; a : [great i will book the booking for you and you will receive a confirmation email and safe travels]\n",
      "q : [i need to find a vacation between today and september 14th from punta cana to san francisco]; a : [do you have a budget]\n",
      "q : [7 days business class then]; a : [ok i will book the business package for you and you will receive a confirmation email shortly]\n",
      "q : [i want to book a trip for my honeymoon]; a : [where would you like to go]\n",
      "q : [i will not book this trip goodbye]; a : [you are welcome]\n",
      "q : [its for an internship dates are nonnegotiable if thats not possible can you check santo domingo for me]; a : [i am afraid we do not have any flights from beijing to paris from san francisco to san juan]\n",
      "q : [and how much is the trip to fukuoka and what are the dates]; a : [the price package would be 1145768usd]\n",
      "q : [yes 5 thousand]; a : [we have a 4 star hotel near a park and museum for a 3 star hotel for this usd]\n",
      "q : [how long would it be]; a : [the package is available would be your total of september 7th to business class would be 358343]\n",
      "q : [can i see the options for the 4 star hotels]; a : [yes it is the same hotel with the beach and the hotel is near a park and the airport]\n",
      "q : [look just tell me is there anything for curitiba]; a : [you days in punta cana for long beach would be staying]\n",
      "q : [lets book it]; a : [done your trip is booked have a great day]\n",
      "q : [could you let me know which class i would be flying in for each destination]; a : [would you like to fly economy class or economy]\n",
      "q : [possibly does it have a spa]; a : [no spa]\n",
      "q : [agghhh free breakfast in miami yes or no]; a : [the hotel is near a park and the airport]\n",
      "q : [that looks great what are the hotels like]; a : [you can a 3 star hotel in the heart of the city is near a park and a museum and a cathedral]\n",
      "q : [indianapolis then]; a : [would you like to book a trip or the 27th of august the 27th]\n",
      "q : [business class]; a : [great your trip is booked for booked for you and your total is august 17th to september 2329]\n",
      "q : [that is too short for us is that the only one you have for minneapolis that fits our dates]; a : [yes yes i can do you have a budget in mind]\n",
      "q : [hi i need to go to ba]; a : [where are you leaving from]\n",
      "q : [yes just me myself and i]; a : [i have a few options for you for 6 days in san juan for august 17 to 17 days]\n",
      "q : [what kind of hotel is it]; a : [it is near a park and shopping and a cathedral and a cathedral]\n",
      "q : [what would happen if i tried jerusalem to portland instead]; a : [unfortunately we do not have any flights from beijing to paris to washington]\n",
      "q : [yeah how much does that cost]; a : [for economy flights and the total of 1236712 is business and the business package is based on the total of august the 25th of september]\n",
      "q : [thats fine what amenities does it have]; a : [free wifi free breakfast and free wifi]\n",
      "q : [great amenities]; a : [free parking free breakfast and wifi]\n",
      "q : [im gonna go now thanks anyway]; a : [thank you for using our service]\n",
      "q : [how about from toronto to porto alegre]; a : [we have a 5 star hotel near the beach and museum and a market for september 1st to business class]\n",
      "q : [phili sounds good how many days]; a : [you can leave from september 6 to september 2nd]\n",
      "q : [zion sounds dank yes lets do it]; a : [great your trip is booked have a great day and safe travels]\n",
      "q : [hey looking to surprise my baby mama in tofino by bringing my 2 kids for a visit]; a : [ok where are you looking to go]\n",
      "q : [hello slightlysmilingface]; a : [hi there where would you like to go]\n",
      "q : [gross not interested how many stars would the hotel in philadelphia from august 30 to september 2 be]; a : [the hotel is near a park and museum]\n",
      "q : [pathetic well can you book something in brasilia instead]; a : [the best is available is available in pittsburgh]\n",
      "q : [tell me about the 13 day please]; a : [free wifi and wifi would you like to book class]\n",
      "q : [ok i will go to calgary]; a : [the total package is a 4 star hotel with free wifi and parking]\n",
      "q : [i got 3700 to my name]; a : [how many people travelling]\n",
      "q : [am i out of luck]; a : [i can book you a trip to porto alegre from august de janeiro would you like to try another destination]\n",
      "q : [perfect lets book that one]; a : [great your trip has been booked enjoy your stay]\n",
      "q : [in that case how about columbus]; a : [i have a 5 day package at a 3 star hotel for the same hotel for september 7th to business]\n",
      "q : [i could increase my budget by 200]; a : [yes the best inn is available is you looking to a total of hamburg]\n",
      "q : [no i am rich]; a : [the cheapest package is from september 17th to september 7th would you like to book this trip]\n",
      "q : [done done and done]; a : [it is done for you for using our services]\n",
      "q : [i am leaving sept 2 and returning the 9 or within that time frame]; a : [i have a 5 day package to punta cana for september horizonte for sept horizonte for you would you prefer to hear more about the]\n",
      "q : [which hotel is better]; a : [the hotel is a 3 star hotel with a guest rating of 82210]\n",
      "q : [there are 9]; a : [the best package is from september 27th to september 7th]\n",
      "q : [i am going with a bunch of friends but i am just booking it for myself]; a : [how many people will you be]\n",
      "q : [ok fine lets do it business class please]; a : [great your trip is booked have a great day and enjoy your trip]\n",
      "q : [dont care but i have to be back here for september 6]; a : [i can book you in punta cana for the same hotel for august de janeiro would you like to hear more about this package]\n",
      "q : [i have 0 budget but big dreamsim heading out from tampagoing to campinasbut im ok with any destination really]; a : [i am sorry i cannot help you with your request]\n",
      "q : [what what if increased budget to 2900]; a : [i am sorry but i do not have any flights out of kabul would you like to try another destination]\n",
      "q : [i will take valencia]; a : [ok i will book the package for you and you are a budget for you]\n",
      "q : [hi im taking the family on a trip to manaus is that possible with a budget of 3900]; a : [sure where would you like to go]\n",
      "q : [when does it leave]; a : [it is the 27th to september 4th]\n",
      "q : [can you get me from cordoba to fukuoka]; a : [ok where would you like to go]\n",
      "q : [i need to get from sacramento to osaka on sept 1or shortly thereafter]; a : [i am sorry but we do not have any trips available for you]\n",
      "q : [do you have any departures from kobe japan]; a : [i do not]\n",
      "q : [what do i get for 714639]; a : [35 star hotel near a park and museum free breakfast wifi and parking and parking are included in economy flights]\n",
      "q : [i am flexible some time soon i hope]; a : [are you travelling alone]\n",
      "q : [and the hotel has how many stars]; a : [the hotel inn suites has a park and a cathedral]\n",
      "q : [would this hotel offer free wifi id like to still be able to work if anything came up]; a : [not it it it offers free wifi and parking]\n",
      "q : [can you tell me dates available in fortalezaone adult]; a : [september 11th to september 2nd]\n",
      "q : [please book this]; a : [your trip has been booked enjoy your stay]\n",
      "q : [that is good to know thanks can you tell me about the 46 star hotel]; a : [it is from the same hotel in the heart of the hotel of the city is near a park and a cathedral]\n",
      "q : [i need to leave from barkcelona i dont think this will work out thank you tho]; a : [you are welcome for your group and long i can help with today]\n",
      "q : [holy crap i will take it]; a : [i will book the trip to the paz for you and you will receive a confirmation email shortly]\n",
      "q : [nice nice can you tell me a litle more about that hotel]; a : [it is a rating is near a park and a cathedral]\n",
      "q : [i live in goiania i will be travelling with my 2 lawyers 2 wives and my 14 children]; a : [sorry i do not have any flights from beijing to paris]\n",
      "q : [how about atlanta can you get me flights there for my budget]; a : [i can book you from september juarez]\n",
      "q : [i have to leave from atlanta]; a : [sorry i do not have any flights from beijing to kobe]\n",
      "q : [2 stars that sounds a little shabby what is the guest rating on it i want something nice for little jimmy and i]; a : [it is near a park and shopping]\n",
      "q : [i want to get away for a bit im from houston]; a : [where would you be leaving from]\n",
      "q : [no but i have a budget of 4100]; a : [the cheapest package is the price is from september 7th to the database is this you would be be on the 27th]\n",
      "q : [that is cutting close returning on the 13th but i guess that is fine what does my package include]; a : [sublime hotel offers free wifi and wifi]\n",
      "q : [just book the triumph for one adult please]; a : [the total is economy class is the total of business class is 340134]\n",
      "q : [august 25september 3]; a : [hi where would you like to go]\n",
      "q : [for the sake of discussion lets say 13]; a : [it is a 3 star hotel and the total of september the business]\n",
      "q : [what about sacramento]; a : [the best package is available in punta cana and the 3 star hotel is near a park and shopping]\n",
      "q : [lets start with philadelphia how much is it i upgrade to business class]; a : [the total cost is the price is from september 17th to september 2nd and the total is business class for you]\n",
      "q : [how much for a 3 star]; a : [it would be 300632]\n",
      "q : [i think it is between fairyland 8 and breakwater]; a : [yes the price is on the total]\n",
      "q : [hi there berlin to atlanta pleasesometime between september 8 and 25]; a : [how many people will be travelling]\n",
      "q : [i would like to travel until september 7 or closer to that date is there anything available is frankfurt for that window]; a : [unfortunately i am afraid i am afraid we do not have any flights to theed from st louis]\n",
      "q : [what if i left from birmingham]; a : [i have a 5 day package to punta cana for september 14 to september 9th]\n",
      "q : [try for 10 for now]; a : [nothing is available for this either either is your budget flexible]\n",
      "q : [naples to santa cruz leaving sunday aug 21budget 2000got anything for me botoh and this is for one person]; a : [unfortunately there are no results for this dates]\n",
      "q : [okay i am curious about the 9 day trip starting from september 10th how much would that cost]; a : [the total cost is the total is the total is august the 16th to the total of the business class is the total of september]\n",
      "q : [one last trypuebla to kingston]; a : [we do not have any flights from beijing to paris to san francisco]\n",
      "q : [ok are any extras included in the price]; a : [yes there is not]\n",
      "q : [ill take that how much]; a : [121788 or economy]\n",
      "q : [ok economy please cathedral and spa option]; a : [great would you like to book it]\n",
      "q : [whew ok]; a : [would you like to book the business class]\n",
      "q : [when would it leave and return]; a : [it is the 27th of september september september the 21st]\n",
      "q : [please book that 6 day trip in denver for me near the university]; a : [great i will book it for you]\n",
      "q : [ahh well maybe that could work whats the price for 6 adults]; a : [the price is available for you and the total of business class is the total of august the 27th of september 24]\n",
      "q : [no are there any 7 day trips from brasilia to la paz]; a : [i have a few options for you to san juan for august 30september janeiro]\n",
      "q : [do you have anything for a shorter stay i only have 5 days off]; a : [i can book you a trip to punta cana for san juan for august de janeiro]\n",
      "q : [ok just book it for me then]; a : [great i will book it for you and you will receive a confirmation email shortly]\n",
      "q : [dude you better give me some options for paris right now]; a : [i have a few package for the package for august 27 to the 11 day package for you to a total of august star stays]\n",
      "q : [i do not have a destination in mind i was hoping you could help me with that]; a : [do you have a budget in mind]\n",
      "q : [to san antonio from busan i live in busan]; a : [ok when would you like to leave]\n",
      "q : [no i want beijing not manas how much would that cost]; a : [i am sorry i do not have any flights from beijing to paris to san louis would you like to try another destination]\n",
      "q : [8 days will be enough]; a : [ok i will book the trip to the paz oro for the future is from august 27 to september lauderdale would you like to go]\n",
      "q : [what would it cost and what kind of hotel can you get us]; a : [i have a 4 star hotel near a park and museum and a cathedral and the hotel is near a park and shopping]\n",
      "q : [the one at 4268 looks good]; a : [would you like to book it for you]\n",
      "q : [would i able to get to kobe maybe]; a : [unfortunately there are no results for this either]\n",
      "q : [that should be alright does the room have a safe]; a : [it has a rating of 82210 and the guest rating is free breakfast and wifi]\n",
      "q : [i need to get away from work how about paris]; a : [how many people people will be travelling]\n",
      "q : [oh sweet i have heard of that place what are the dates]; a : [you would be on september september september september september]\n",
      "q : [ok i will stick with the 18 day package economy please]; a : [i will book the business package for you for you anything else you need to go]\n",
      "q : [and how much to make that a business class ticket]; a : [it would be economy class and the total cost is the total of business]\n",
      "q : [can you give me details on the 35 star]; a : [3 stars guest rating free breakfast free wifi and free wifi]\n",
      "q : [sure this one seems to be more what im looking for is the hotel near anything]; a : [i have a 4 star hotel near a park and a museum and a cathedral]\n",
      "q : [between september 24 and september 27 ok]; a : [i can offer you a trip from august 31 to september horizonte would you like to try another destination]\n",
      "q : [august 27 to september 17]; a : [the trip to porto on august 27th for august 27th to the 27th of august the 20th of august de janeiro would you like to]\n",
      "q : [spa and free wifi sounds nice i would be interested in the 9 day trip what are the flight details]; a : [the hotel hotel is near a park and museum free breakfast free wifi and free wifi]\n",
      "q : [greati like the first package you told me about in osaka i would like to book it please]; a : [sure sure thing i will book the business class package]\n",
      "q : [thanks is the 25 star hotel my only option in kingston]; a : [the best package is the only hotel is the only hotel in the heart of the city is the city]\n",
      "q : [do you have any flights to denver]; a : [i can help you with that do you have a budget]\n",
      "q : [i am flexible about that but i am looking for a 6 day vacation package]; a : [how many will you be traveling]\n",
      "q : [that sounds decent which place has the better hotel]; a : [25 star hotel has a guest rating of 82210]\n",
      "q : [can you please just find a trip to take me out of this godforsaken town]; a : [i can book you to punta cana]\n",
      "q : [what if i leave from sl instead anything better]; a : [nothing is the only results]\n",
      "q : [and for business]; a : [the total cost is the business package is the total of the total of the business class is 1761917usd and the business class is the]\n",
      "q : [how about boston to sl]; a : [nothing in punta cana]\n",
      "q : [that sounds quite impressive what is the hotel located near]; a : [it is near a park and a museum]\n",
      "q : [not a dime over 4100 it is all i have got]; a : [yes i have a few 4 star hotels for you days for a total of august august august august august august 27]\n",
      "q : [free wifi as well]; a : [yes it is near free wifi and free wifi]\n",
      "q : [25 stars will do can you offer any additional activities]; a : [no i have no information in my database]\n",
      "q : [what is the price for this one]; a : [it is a 3 star hotel for the price is the price of the price is the price of the price is the total of]\n",
      "q : [ok and anything in st peterburg]; a : [the best package is available in the heart of lodge is a 3 star hotel with free wifi and free wifi]\n",
      "q : [i need to go from kabul to toronto would you happen to have any flights for me]; a : [i do not fly out of kabul]\n",
      "q : [that is it close to]; a : [i do not have a park]\n",
      "q : [i want to take a trip from diagon alley to naples]; a : [unfortunately we do not have any flights from beijing to washington]\n",
      "q : [sweet ok i like that leaving august 27]; a : [i can book you to business class for economy class for economy]\n",
      "q : [that is fine i will book the 10 day germany mellow palms resort vacation package]; a : [great i will book the booking for you confirmation for you and you will receive a confirmation email]\n",
      "q : [alright what if i shortened the miami honeymoon can you fit something inside our budget]; a : [i am afraid the only hotel package is the same dates would you like to try]\n",
      "q : [what about 400]; a : [i have a few options for you to san juan for san diego for august de janeiro would you like to try another destination]\n",
      "q : [what an attractive sounding package does the hotel have good reviews]; a : [it has a guest rating of 82210 free breakfast and wifi]\n",
      "q : [i would like to have a hotel in santo domingo that is near the beach please]; a : [ok i will book the trip for you]\n",
      "q : [ok thanks well lets go ahead and book santo domingo i wanna stay on the beach]; a : [great i will book the booking for you]\n",
      "q : [free breaky]; a : [no but it is near a park and shopping free breakfast and wifi]\n",
      "q : [sweet so a day longer and cheaper i like that what are the names of the hotels]; a : [the hotel is the illustrious pool hotel]\n",
      "q : [allrighty we will book the economy and keep the rest for a rainy day thank you kindly]; a : [great it is booked have a great day and safe travels]\n",
      "q : [me alone]; a : [how about a 4 star hotel and the 3 star hotel]\n",
      "q : [hi we live in miami and are trying to plan our next vacay can you help]; a : [sure where would you like to go and where are you leaving from]\n",
      "q : [okay how about to leon]; a : [there are no results for this either either]\n",
      "q : [does it offer anything]; a : [yes i do not have any information in rome]\n",
      "q : [my friend madonna and i would like to leave from essen our only restraint is to be back by september 5]; a : [i have no flights to milan from august de janeiro to san juan]\n",
      "q : [no breakfast]; a : [no sorry]\n",
      "q : [what about pittsburgh it seems to be a trendy destination this year]; a : [yes i have a few 4 star hotel in punta cana for 303130usd stars for this usd]\n",
      "q : [is it booked then]; a : [sure i will book the business class for you]\n",
      "q : [potentially which of these places have the best hotel for 5 people]; a : [the hotel is from september 12th to the 12th and the price is the price of the price is the price of the city]\n",
      "q : [sounds better what are the details]; a : [the hotel is near a park and a museum and a cathedral and has free wifi and free wifi]\n",
      "q : [very well could you try miami then]; a : [there is nothing is not the only hotel we have available]\n",
      "q : [would i be better off looking in vancouver then]; a : [3 star hotel near a park and museum free breakfast wifi and parking]\n",
      "q : [great smile i do not care too much about the length of the stay i just want the hotel to be as nice as possible]; a : [the only star hotel package available is 3 stars in punta cana for the city is only a 3 star hotel]\n",
      "q : [yeah in that case lets look at burlington]; a : [i have a 4 star hotel in punta cana for the 11 day package for you]\n",
      "q : [how about los angeles]; a : [i have a 5 day package to punta cana for september horizonte for sept horizonte]\n",
      "q : [i have 11 days of time off starting on august 17 can you offer me any vacation packages leaving from portland]; a : [sure do you have a budget in mind]\n",
      "q : [yes sounds right to me]; a : [great your flight is booked is you have a great trip]\n",
      "q : [we have 6200]; a : [how many people]\n",
      "q : [and how much if i were to go to pittsborgh]; a : [you would leave on august 27th and return on september 7th and return on august 27th and return on september 7th]\n",
      "q : [no i need to check punta cana]; a : [are you interested in a 5 day stay]\n",
      "q : [they seem very accommodating how much would this stay on the 1st be compared a vacation in mannheim at the regal resort]; a : [for the business class flights]\n",
      "q : [i thought you said it fit my dates i asked to leave after august 30th]; a : [the trip to manaus is the dates would be be on august 30th]\n",
      "q : [nice when at the dates for that]; a : [september 27th to september september september september]\n",
      "q : [how much does it cost for 11 days]; a : [it would be 1411128 for economy class and 3969435 for business class]\n",
      "q : [i am presently in north vancouver would like to leave around sept 2 and come back around sept 15]; a : [i have a 5 star hotel available from september 1st to 22 canada for does that sound]\n",
      "q : [i will take a chance there wih the 10 day packag]; a : [thank you for using our services]\n",
      "q : [no unfortunately i cannot guess i will just take a staycation this time disappointed thanks anyway]; a : [i am sorry but i have nothing available for you]\n",
      "q : [how many stars is the zion hotel]; a : [the hotel is a 3 star hotel]\n",
      "q : [thats fine its still under 1500 and the hotel what is it like]; a : [it is a 3 star hotel with free wifi and free wifi]\n",
      "q : [ok what if i leave from a different city than sl it could be any city]; a : [i am sorry but i do not have any flights from beijing to washington]\n",
      "q : [get me the 7 day one]; a : [great i will book the booking for the trip]\n",
      "q : [i need a higher ranking]; a : [the highest rated hotel]\n",
      "q : [alrighty then lets book the 15 day one]; a : [you are booked]\n",
      "q : [nothing in mind yet i am looking for some ideas]; a : [ok where would you like to leave from]\n",
      "q : [whoa thats snazzy what kind of hotel]; a : [you can go to punta cana for kobe or 6 days]\n",
      "q : [then forget it what are the dates you can get us for santos]; a : [you can spend 8 days in calgary for august august august september september september september]\n",
      "q : [ok not flexible on depart date maybe another destinatio]; a : [i can book you in punta cana for september 7th for september 7th]\n",
      "q : [undecided just book me whatever]; a : [i have a few options for you for august 27 to sept 10th sound for you would be interested in hearing more]\n",
      "q : [ok thats possible whats the price there]; a : [the total cost is the total of the total of the total is august 27 to september 7th would be 2203 on class]\n",
      "q : [im interested but can you check availabities for porto before we book]; a : [i am sorry but i do not have any flights from beijing to paris]\n",
      "q : [is there anything else thats of comparable length]; a : [the price is the price is from september 7th to september 2nd]\n",
      "q : [excellent ive always wanted to see japan what kind of hotel can i expect]; a : [sure thing where would you like to go for you are your trip to mind]\n",
      "q : [bringing many children fourteen in total we leave tofino5 adults we are and the children]; a : [how many people and children]\n",
      "q : [any of them under 1700 dollars]; a : [the hotel is available at a 3 star hotel with a guest rating of 82210]\n",
      "q : [burlington to vancouver]; a : [i have a 35 star hotel]\n",
      "q : [to rome then]; a : [we have a 4 star hotel in punta cana for the city for this usd]\n",
      "q : [how about ciudad juarez]; a : [you could go to tokyo for the dates]\n",
      "q : [there is my wife me her mother grimacing and our gaggle of 5 kids]; a : [ok i can book you for the database for this]\n",
      "q : [okay send me to birmingham]; a : [i am sorry but we do not have any flights from beijing to washington]\n",
      "q : [guess what i want to go to pun cana now what would that cost me]; a : [i can book you a trip from august 31 to september 2nd for you would you like to try more about the 27th]\n",
      "q : [that actually sounds very hip to us i love it]; a : [would you like to book a trip to rome for you]\n",
      "q : [can i have the names of those hotels please]; a : [yes the hotel is the price is the illustrious pool hotel and the price is near a park and the airport]\n",
      "q : [hi there i would like to take my grandkids on vacation to brasilia]; a : [where are your budget]\n",
      "q : [what about denver if need be we can up our budget to 3800]; a : [i have a few options for you to san juan for your dates would you like to try another destination]\n",
      "q : [that sounds nice my husband requested i stick to a budget of 25600 what is the price of this package]; a : [the trip is the price is the price is august the 27th of august august august august september august august august august august 27th]\n"
     ]
    }
   ],
   "source": [
    "replies = []\n",
    "for ii, oi in zip(input_.T, output):\n",
    "    q = data_utils.decode(sequence=ii, lookup=metadata['idx2w'], separator=' ')\n",
    "    decoded = data_utils.decode(sequence=oi, lookup=metadata['idx2w'], separator=' ').split(' ')\n",
    "    if decoded.count('unk') == 0:\n",
    "        if decoded not in replies:\n",
    "            print('q : [{0}]; a : [{1}]'.format(q, ' '.join(decoded)))\n",
    "            replies.append(decoded)"
   ]
  },
  {
   "cell_type": "code",
   "execution_count": 0,
   "metadata": {
    "colab": {},
    "colab_type": "code",
    "id": "NLVItAGxEdkY"
   },
   "outputs": [],
   "source": []
  }
 ],
 "metadata": {
  "accelerator": "GPU",
  "colab": {
   "collapsed_sections": [],
   "name": "TravelBot.ipynb",
   "provenance": [],
   "version": "0.3.2"
  },
  "kernelspec": {
   "display_name": "Python 3",
   "language": "python",
   "name": "python3"
  },
  "language_info": {
   "codemirror_mode": {
    "name": "ipython",
    "version": 3
   },
   "file_extension": ".py",
   "mimetype": "text/x-python",
   "name": "python",
   "nbconvert_exporter": "python",
   "pygments_lexer": "ipython3",
   "version": "3.6.7"
  }
 },
 "nbformat": 4,
 "nbformat_minor": 1
}
